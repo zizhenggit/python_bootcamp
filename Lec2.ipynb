{
 "cells": [
  {
   "cell_type": "code",
   "execution_count": 2,
   "metadata": {},
   "outputs": [],
   "source": [
    "# pip install names"
   ]
  },
  {
   "cell_type": "code",
   "execution_count": 3,
   "metadata": {},
   "outputs": [],
   "source": [
    "import names"
   ]
  },
  {
   "cell_type": "code",
   "execution_count": 6,
   "metadata": {},
   "outputs": [
    {
     "name": "stdout",
     "output_type": "stream",
     "text": [
      "all names ['Robert Salomone', 'Gloria Grisham', 'John Scantling', 'Angel Wade', 'Florence Dowd', 'Antonette Patel', 'Byron Gibson', 'Quinn Najera', 'Fred Byington', 'Allison Smith', 'Jose Taylor', 'Leslie Lawlor', 'Natalie Avery', 'Mathilda Youngblood', 'Joanna Laird', 'Lona Goodwyn', 'Douglas Alvaro', 'Steve Walker', 'Donald House', 'Edgar Smith']\n",
      "John Scantling\n",
      "found name that starts with A: Angel Wade\n",
      "found name that starts with A: Antonette Patel\n",
      "found name that starts with A: Allison Smith\n"
     ]
    }
   ],
   "source": [
    "generated_names = []\n",
    "\n",
    "for i in range(20):\n",
    "    one_name = names.get_full_name()\n",
    "    generated_names.append(one_name)\n",
    "\n",
    "print(f\"all names {generated_names}\")\n",
    "\n",
    "third_name = generated_names[2]\n",
    "print(third_name)\n",
    "\n",
    "for name in generated_names:\n",
    "    if name[0] == 'A':\n",
    "        print(f\"found name that starts with A: {name}\")"
   ]
  },
  {
   "cell_type": "code",
   "execution_count": 9,
   "metadata": {},
   "outputs": [
    {
     "name": "stdout",
     "output_type": "stream",
     "text": [
      "{'rita james': 'math'}\n"
     ]
    }
   ],
   "source": [
    "possible_majors = ['math', 'statsitics', 'economics', 'history', 'cs']\n",
    "\n",
    "student_roster = dict()\n",
    "\n",
    "student_roster['rita james'] = 'math'\n",
    "print(student_roster)"
   ]
  },
  {
   "cell_type": "code",
   "execution_count": 11,
   "metadata": {},
   "outputs": [
    {
     "name": "stdout",
     "output_type": "stream",
     "text": [
      "statsitics\n",
      "{'Amanda Hatton': 'statsitics',\n",
      " 'Archie Elliott': 'history',\n",
      " 'Brian Stemper': 'economics',\n",
      " 'Cathy Balde': 'math',\n",
      " 'Charlotte Boyd': 'history',\n",
      " 'Christopher Frizzle': 'cs',\n",
      " 'David Mccauley': 'history',\n",
      " 'Derrick Edgerton': 'economics',\n",
      " 'Dorothy Jackman': 'economics',\n",
      " 'Emmanuel Molleur': 'cs',\n",
      " 'Esther Brown': 'cs',\n",
      " 'John Glover': 'math',\n",
      " 'Joseph Horka': 'statsitics',\n",
      " 'Ladonna Finegan': 'economics',\n",
      " 'Marilyn Fogg': 'history',\n",
      " 'Martha Jones': 'cs',\n",
      " 'Roy Huff': 'cs',\n",
      " 'Ruth Fackler': 'economics',\n",
      " 'Sarah Miller': 'math',\n",
      " 'Tyler Boehm': 'history',\n",
      " 'rita james': 'math'}\n"
     ]
    }
   ],
   "source": [
    "import random\n",
    "\n",
    "random_element = random.choice(possible_majors)\n",
    "print(random_element)\n",
    "\n",
    "for i in range(20):\n",
    "    one_name = names.get_full_name()\n",
    "    one_major = random.choice(possible_majors)\n",
    "    student_roster[one_name] = one_major\n",
    "\n",
    "import pprint\n",
    "pprint.pprint(student_roster)"
   ]
  },
  {
   "cell_type": "code",
   "execution_count": 12,
   "metadata": {},
   "outputs": [
    {
     "name": "stdout",
     "output_type": "stream",
     "text": [
      "One birthday: 1998-02-22\n"
     ]
    }
   ],
   "source": [
    "from datetime import datetime, timedelta\n",
    "def get_random_birthdate():\n",
    "    start_date = datetime(1998, 1, 1)\n",
    "    end_date = datetime(2005, 1, 1)\n",
    "\n",
    "    # Calculate the total number of days\n",
    "    total_days = (end_date - start_date).days\n",
    "\n",
    "    # Generate a random number of days between 0 and the total number of days\n",
    "    random_days = random.randint(0, total_days)\n",
    "\n",
    "    # Add the random number of days to the start date\n",
    "    random_date = start_date + timedelta(days=random_days)\n",
    "\n",
    "    # Format the random date as a string\n",
    "    random_date_str = random_date.strftime(\"%Y-%m-%d\")\n",
    "\n",
    "    #print(\"Random date:\", random_date_str)\n",
    "    return random_date_str\n",
    "\n",
    "bd = get_random_birthdate()\n",
    "print(F\"One birthday: {bd}\")"
   ]
  },
  {
   "cell_type": "code",
   "execution_count": 13,
   "metadata": {},
   "outputs": [
    {
     "name": "stdout",
     "output_type": "stream",
     "text": [
      "Student 3 major: cs\n",
      "Student 5 birth date: 2002-07-04\n"
     ]
    }
   ],
   "source": [
    "class Student:\n",
    "    def __init__(self, student_name, major=None, birth_date=None):\n",
    "        self.student_name = student_name\n",
    "        self.major = major\n",
    "        self.birth_date = birth_date\n",
    "\n",
    "all_students = []\n",
    "for i in range(20):\n",
    "    one_name = names.get_full_name()\n",
    "    one_major = random.choice(possible_majors)\n",
    "    one_student = Student(student_name=one_name, major=one_major)\n",
    "    all_students.append(one_student)\n",
    "\n",
    "\n",
    "print(F\"Student {3} major: {all_students[2].major}\")\n",
    "\n",
    "# use the print statement in the get random function. \n",
    "# mention that you need to recompile the function! \n",
    "for student in all_students:\n",
    "    one_birth_date = get_random_birthdate()\n",
    "    student.birth_date = one_birth_date\n",
    "\n",
    "print(F\"Student 5 birth date: {all_students[4].birth_date}\")"
   ]
  },
  {
   "cell_type": "code",
   "execution_count": 14,
   "metadata": {},
   "outputs": [
    {
     "name": "stdout",
     "output_type": "stream",
     "text": [
      "1998\n",
      "1998-05-24\n",
      "Student 3 age is: 25. They were born in: 1998\n"
     ]
    }
   ],
   "source": [
    "from datetime import datetime, date\n",
    "\n",
    "class Student:\n",
    "    def __init__(self, student_name, major=None, birth_date=None):\n",
    "        self.student_name = student_name\n",
    "        self.major = major\n",
    "        self.birth_date = birth_date\n",
    "    \n",
    "    def get_birth_year(self):\n",
    "        datetime_obj = datetime.strptime(self.birth_date, '%Y-%m-%d')\n",
    "        year = datetime_obj.year\n",
    "        print(year)\n",
    "        return year\n",
    "        #print(datetime_obj)\n",
    "\n",
    "    def compute_age(self):\n",
    "        current_date = date.today()\n",
    "        print(self.birth_date)\n",
    "        years = current_date.year - int(self.birth_date[0:4])\n",
    "        return years\n",
    "\n",
    "all_students = []\n",
    "for i in range(20):\n",
    "    one_name = names.get_full_name()\n",
    "    one_major = random.choice(possible_majors)\n",
    "    one_student = Student(student_name=one_name, major=one_major)\n",
    "    all_students.append(one_student)\n",
    "\n",
    "\n",
    "# print(F\"Student {3} major: {all_students[2].major}\")\n",
    "\n",
    "# use the print statement in the get random function. \n",
    "# mention that you need to recompile the function! \n",
    "for student in all_students:\n",
    "    one_birth_date = get_random_birthdate()\n",
    "    student.birth_date = one_birth_date\n",
    "\n",
    "student_three_birth_year = all_students[2].get_birth_year()\n",
    "student_three_age = all_students[2].compute_age()\n",
    "print(F\"Student 3 age is: {student_three_age}. They were born in: {student_three_birth_year}\")\n",
    "\n",
    "# print(F\"Student 5 birth date: {all_students[4].birth_date}\")\n"
   ]
  },
  {
   "cell_type": "code",
   "execution_count": null,
   "metadata": {},
   "outputs": [],
   "source": []
  }
 ],
 "metadata": {
  "kernelspec": {
   "display_name": "Python 3",
   "language": "python",
   "name": "python3"
  },
  "language_info": {
   "codemirror_mode": {
    "name": "ipython",
    "version": 3
   },
   "file_extension": ".py",
   "mimetype": "text/x-python",
   "name": "python",
   "nbconvert_exporter": "python",
   "pygments_lexer": "ipython3",
   "version": "3.9.4"
  },
  "orig_nbformat": 4
 },
 "nbformat": 4,
 "nbformat_minor": 2
}
